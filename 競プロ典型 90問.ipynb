{
 "cells": [
  {
   "cell_type": "markdown",
   "id": "a30f1488",
   "metadata": {},
   "source": [
    "問題文\n",
    "左右の長さが L [cm] のようかんがあります。 N 個の切れ目が付けられており、左から i 番目の切れ目は左から Ai[cm] の位置にあります。\n",
    "あなたは N 個の切れ目のうち K 個を選び、ようかんを K+1 個のピースに分割したいです。そこで、以下の値を スコア とします。\n",
    "K+1 個のピースのうち、最も短いものの長さ（cm 単位）\n",
    "スコアが最大となるように分割する場合に得られるスコアを求めてください。"
   ]
  },
  {
   "cell_type": "markdown",
   "id": "c21c58ae",
   "metadata": {},
   "source": [
    "<解法>\n",
    "二分探索(解は必ず[0,L]の範囲で存在する．→二分探索)＋判定問題\n",
    "\n",
    "二分探索で以下を繰り返す\n",
    "\n",
    "1.\"答えの長さMを仮定\"\n",
    "\n",
    "2.\"答えはM以上か\"⇔\"K+1個以上の「長さM以上のピース」に分割可能か\""
   ]
  },
  {
   "cell_type": "code",
   "execution_count": 13,
   "id": "3bc1eb3f",
   "metadata": {},
   "outputs": [
    {
     "name": "stdout",
     "output_type": "stream",
     "text": [
      "3 34\n",
      "1\n",
      "8 13 26\n",
      "13\n"
     ]
    }
   ],
   "source": [
    "#l以上の長さで切れるか判定\n",
    "def judge(l):\n",
    "    #切れた回数\n",
    "    count = 0\n",
    "    #最後に切った位置\n",
    "    pre_len = 0\n",
    "    for i in range(N):\n",
    "        #長さがlを超え，かつ，残りの長さがlいじょうなら切る\n",
    "        if A[i]-pre_len >= l and L-A[i] >= l:\n",
    "            count += 1\n",
    "            pre_len = A[i]\n",
    "    if count >= K:\n",
    "        return True\n",
    "    else:\n",
    "        return False\n",
    "    \n",
    "def main():\n",
    "    right = L\n",
    "    left = 0\n",
    "    while right - left > 1:\n",
    "        mid = (right+left)//2\n",
    "        if judge(mid):\n",
    "            left = mid\n",
    "        else: \n",
    "            right = mid\n",
    "    print(left)\n",
    "    \n",
    "if __name__ == \"__main__\":\n",
    "    N, L = map(int,input().split())\n",
    "    K = int(input())\n",
    "    A = list(map(int, input().split()))\n",
    "    main()"
   ]
  },
  {
   "cell_type": "markdown",
   "id": "a95e5096",
   "metadata": {},
   "source": [
    "問題文\n",
    "長さ N の正しいカッコ列をすべて、辞書順に出力してください。\n",
    "ただし、正しいカッコ列は次のように定義されています :\n",
    "() は正しいカッコ列である\n",
    "S が正しいカッコ列であるとき、文字列 ( +S+ ) は正しいカッコ列である\n",
    "S,T が正しいカッコ列であるとき、文字列 S+T は正しいカッコ列である\n",
    "それ以外の文字列はすべて、正しいカッコ列でない"
   ]
  },
  {
   "cell_type": "markdown",
   "id": "2db4fc86",
   "metadata": {},
   "source": [
    "bit全探索＋判定問題"
   ]
  },
  {
   "cell_type": "code",
   "execution_count": null,
   "id": "ec200e55",
   "metadata": {},
   "outputs": [],
   "source": [
    "def jadge1(N):\n",
    "    if N%2==0:\n",
    "        return True\n",
    "    else:\n",
    "        return False\n",
    "def jadge2(N):\n",
    "\n",
    "def main():\n",
    "    if judge1(N):\n",
    "        while:\n",
    "            print()\n",
    "\n",
    "if __name__ == \"__main__\":\n",
    "    N = int(input())\n",
    "    main()"
   ]
  }
 ],
 "metadata": {
  "kernelspec": {
   "display_name": "Python 3",
   "language": "python",
   "name": "python3"
  },
  "language_info": {
   "codemirror_mode": {
    "name": "ipython",
    "version": 3
   },
   "file_extension": ".py",
   "mimetype": "text/x-python",
   "name": "python",
   "nbconvert_exporter": "python",
   "pygments_lexer": "ipython3",
   "version": "3.8.8"
  }
 },
 "nbformat": 4,
 "nbformat_minor": 5
}
