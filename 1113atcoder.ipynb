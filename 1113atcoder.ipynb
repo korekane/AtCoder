{
 "cells": [
  {
   "cell_type": "markdown",
   "id": "b80462dc",
   "metadata": {},
   "source": [
    "1,2,…,N の番号のついた N 人の人に合計 K 枚のカードを配ります。\n",
    "人 A から始めて 人 A,A+1,A+2,…,N,1,2,… の順に 1 枚ずつカードを配るとき、最後のカードは誰に配られるでしょうか？\n",
    "厳密には、人 x(1≤x<N) の次には人 x+1 にカードを配り、人 N の次には人 1 にカードを配ります。"
   ]
  },
  {
   "cell_type": "code",
   "execution_count": 3,
   "id": "e009d552",
   "metadata": {},
   "outputs": [
    {
     "name": "stdout",
     "output_type": "stream",
     "text": [
      "3 14 2\n",
      "3\n"
     ]
    }
   ],
   "source": [
    "N,K,A = map(int, input().split())\n",
    "a = (A-1+K)%N\n",
    "if a ==0:\n",
    "    print(N)\n",
    "else:\n",
    "    print(a)"
   ]
  },
  {
   "cell_type": "markdown",
   "id": "dd270f83",
   "metadata": {},
   "source": [
    "1 から N の番号がついた N 人の人がいます。\n",
    "人 i はキーエンス本社ビルの建築面積を Si平方メートルであると予想しました。\n",
    "キーエンス本社ビルは下図のような形をしています。ただし、a,b はある 正の整数 です。\n",
    "つまり、キーエンス本社ビルの建築面積は 4ab+3a+3b 平方メートルと表されます。\n",
    "N 人のうち、この情報のみによって、予想した面積が確実に誤りであるとわかる人数を求めてください。"
   ]
  },
  {
   "cell_type": "code",
   "execution_count": 14,
   "id": "fba6ed7f",
   "metadata": {},
   "outputs": [
    {
     "name": "stdout",
     "output_type": "stream",
     "text": [
      "5\n",
      "666 777 888 777 666\n",
      "3\n"
     ]
    }
   ],
   "source": [
    "N = int(input())\n",
    "S = list(map(int, input().split()))\n",
    "\n",
    "ans = 0\n",
    "for index in S:\n",
    "    flag = False\n",
    "    for a in range(index):\n",
    "        for b in range(index):\n",
    "            if 4*(a+1)*(b+1)+3*(a+1)+3*(b+1) == index:\n",
    "                flag=True\n",
    "    if flag == False:\n",
    "        ans += 1\n",
    "print(ans)"
   ]
  },
  {
   "cell_type": "markdown",
   "id": "72d16c82",
   "metadata": {},
   "source": [
    "正の整数 N が与えられます。\n",
    "A≤B≤C かつ ABC≤N であるような正の整数の組 (A,B,C) の個数を求めてください。\n",
    "なお、制約の条件下で答えは 2^63未満であることが保証されます。"
   ]
  },
  {
   "cell_type": "code",
   "execution_count": 24,
   "id": "d7ccdbb9",
   "metadata": {},
   "outputs": [
    {
     "name": "stdout",
     "output_type": "stream",
     "text": [
      "5\n"
     ]
    }
   ],
   "source": [
    "N = int(input())\n",
    "#N=4\n",
    "ans=0\n",
    "for a in range(1,N+1):\n",
    "    if a*a*a > N:\n",
    "        break\n",
    "    for b in range(a,N+1):\n",
    "        if a*b*b > N:\n",
    "            break\n",
    "#        for c in range(b,N+1):\n",
    "#            if a*b*c<=N:\n",
    "#                ans+=1\n",
    "        ans+=N//(a*b)-b+1\n",
    "\n",
    "\n",
    "print(ans)"
   ]
  },
  {
   "cell_type": "markdown",
   "id": "d9b94014",
   "metadata": {},
   "source": [
    "キーエンスには N 個の部署があり、i(1≤i≤N) 番目の部署には Ai人の社員が所属しています。異なる部署に同じ社員が所属していることはありません。\n",
    "キーエンスは、部署をまたいだ全社横断プロジェクトを計画しています。1 つのプロジェクトは K 個の相異なる部署から 1 人ずつ選出して作り、ちょうど K 人から構成されるようにします。\n",
    "プロジェクトは最大でいくつ作れますか？ただし、1 人が複数のプロジェクトに参加することはできません。"
   ]
  },
  {
   "cell_type": "code",
   "execution_count": null,
   "id": "ef74b6a3",
   "metadata": {},
   "outputs": [],
   "source": [
    "#N,K = map(int, input().split())\n",
    "#S = list(map(int, input().split()))\n",
    "N=4\n",
    "K=3\n",
    "A=[1,1,3,4]\n",
    "\n",
    "\n"
   ]
  },
  {
   "cell_type": "markdown",
   "id": "1d73ec63",
   "metadata": {},
   "source": [
    "K, E, Y のみからなる文字列 S が与えられます。\n",
    "S の隣接する 2 文字を入れ替える操作を K 回まで行えるとき、作ることができる文字列は何種類ありますか？"
   ]
  },
  {
   "cell_type": "code",
   "execution_count": null,
   "id": "90fa6909",
   "metadata": {},
   "outputs": [],
   "source": [
    "# dp[x][e][y]=(i番目まで見て、)swapをx回していて、Eをe個、Yをy個使用済みのとき、(残りの文字列,数)\n",
    "from collections import defaultdict\n",
    "S=list(input())\n",
    "K=int(input())\n",
    "def fix():return defaultdict(fix)\n",
    "dp=defaultdict(fix)\n",
    "dp[0][0][0]=(S,1)\n",
    " \n",
    "for _ in range(len(S)):\n",
    "    new_dp=defaultdict(fix)\n",
    "    for x,d1 in dp.items():\n",
    "        for e,d2 in d1.items():\n",
    "            for y,(s,val) in d2.items():\n",
    "                for c in \"KEY\":\n",
    "                    if c in s:\n",
    "                        idx=s.index(c)\n",
    "                        xx=x+idx\n",
    "                        ee=e+(c=='E')\n",
    "                        yy=y+(c=='Y')\n",
    "                        if yy in new_dp[xx][ee]:\n",
    "                            new_dp[xx][ee][yy]=(new_dp[xx][ee][yy][0], new_dp[xx][ee][yy][1]+val)\n",
    "                        else:\n",
    "                            new_dp[xx][ee][yy]=(s[:idx]+s[idx+1:], val)\n",
    "    dp=new_dp\n",
    " \n",
    "ans=0\n",
    "for x,d1 in dp.items():\n",
    "    if x>K:continue\n",
    "    for e,d2 in d1.items():\n",
    "        for y,(s,val) in d2.items():\n",
    "            ans+=val\n",
    "print(ans)"
   ]
  },
  {
   "cell_type": "markdown",
   "id": "0fd7512f",
   "metadata": {},
   "source": [
    "縦 H 行、横 W 列のマス目があります。上から i 行目、左から j 列目のマスを (i,j) と書くことにします。(i,j) には整数 Ai,jが書かれています。\n",
    "高橋君は (1,1) を出発し、(H,W) にたどり着くまで、1 つ右あるいは 1 つ下のマスへ移動することを繰り返します。ただし、マス目の外に出ることはできません。この時、移動のコストを以下のように定義します。\n",
    "通った H+W−1 個のマスに書かれた整数のうち大きい方 K 個の和コストとしてありうる最小値を求めてください。"
   ]
  },
  {
   "cell_type": "code",
   "execution_count": null,
   "id": "3b314e56",
   "metadata": {},
   "outputs": [],
   "source": []
  },
  {
   "cell_type": "markdown",
   "id": "4c500d4f",
   "metadata": {},
   "source": [
    "二項係数 (KN) の正の約数の個数を 998244353 で割った余りを求めてください。"
   ]
  },
  {
   "cell_type": "code",
   "execution_count": null,
   "id": "7e811388",
   "metadata": {},
   "outputs": [],
   "source": []
  },
  {
   "cell_type": "markdown",
   "id": "a63e8b24",
   "metadata": {},
   "source": [
    "縦 3 行、横 3 列のマス目があります。上から i 行目、左から j 列目のマスを (i,j) と書くことにします。(i,j) には A \n",
    "i,j\n",
    "​\n",
    "  個の猫缶が置かれています。\n",
    "\n",
    "すぬけ君は現在 (1,1) にいます。すぬけ君は以下の行動を繰り返します。\n",
    "\n",
    "すぬけ君が現在いるマスに置かれている猫缶を 1 つ食べた後、隣接するマスに移動する\n",
    "すぬけ君は、現在いるマスに猫缶が残っていないとき行動を終了します。\n",
    "\n",
    "行動を終了した時に以下の条件が全て満たされることは可能ですか？可能ならばすぬけ君の行動の一例を示してください。\n",
    "\n",
    "すぬけ君は (1,1) にいる。\n",
    "どのマスにも猫缶が残っていない。"
   ]
  },
  {
   "cell_type": "code",
   "execution_count": null,
   "id": "a30bae67",
   "metadata": {},
   "outputs": [],
   "source": []
  }
 ],
 "metadata": {
  "kernelspec": {
   "display_name": "Python 3",
   "language": "python",
   "name": "python3"
  },
  "language_info": {
   "codemirror_mode": {
    "name": "ipython",
    "version": 3
   },
   "file_extension": ".py",
   "mimetype": "text/x-python",
   "name": "python",
   "nbconvert_exporter": "python",
   "pygments_lexer": "ipython3",
   "version": "3.8.8"
  }
 },
 "nbformat": 4,
 "nbformat_minor": 5
}
