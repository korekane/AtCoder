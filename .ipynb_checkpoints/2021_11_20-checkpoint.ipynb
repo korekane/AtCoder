{
 "cells": [
  {
   "cell_type": "markdown",
   "id": "e116e9b7",
   "metadata": {},
   "source": [
    "問題文\n",
    "高橋君は、毎日 S 時 0 分に部屋の電気をつけ、毎日 T 時 0 分に消します。\n",
    "電気をつけている間に日付が変わることもあります。\n",
    "X 時 30 分に部屋の電気がついているかどうか判定してください。"
   ]
  },
  {
   "cell_type": "code",
   "execution_count": 3,
   "id": "846d0bcf",
   "metadata": {},
   "outputs": [
    {
     "name": "stdout",
     "output_type": "stream",
     "text": [
      "Yes\n"
     ]
    }
   ],
   "source": [
    "S, T, X = map(int, input().split())\n",
    "X1 = X + 0.5\n",
    "X2 = X1 + 24\n",
    "if T <= S:\n",
    "    T = T + 24\n",
    "if (S <= X1 and X1 <= T) or(S <= X2 and X2 <= T):\n",
    "    print(\"Yes\")\n",
    "else:\n",
    "    print(\"No\")"
   ]
  },
  {
   "cell_type": "markdown",
   "id": "41790107",
   "metadata": {},
   "source": [
    "問題文\n",
    "高橋君には N 人の友達がいます。N 人の友達はそれぞれ、友達 1 、友達 2 、… 、友達 N というあだ名で呼ばれています。\n",
    "ある日、高橋君はある恥ずかしい秘密を、友達の一人である友達 X に知られてしまいました。\n",
    "i=1,2,…,N について、友達 i が高橋君の秘密を知ったとき、友達 Aiがまだ高橋君の秘密を知らなければ、友達 i は高橋君の秘密を友達 Aiにも教えてしまいます。\n",
    "高橋君の秘密は最終的に何人の友達に知られることになるでしょうか？"
   ]
  },
  {
   "cell_type": "code",
   "execution_count": 18,
   "id": "01ca0954",
   "metadata": {},
   "outputs": [
    {
     "name": "stdout",
     "output_type": "stream",
     "text": [
      "[0, 0, 0, 0, 0, 0, 0, 0, 0, 0, 0, 1, 0, 0, 0, 0, 0, 0, 0, 0]\n",
      "[0, 0, 0, 0, 1, 0, 0, 0, 0, 0, 0, 1, 0, 0, 0, 0, 0, 0, 0, 0]\n",
      "[0, 0, 0, 0, 1, 0, 1, 0, 0, 0, 0, 1, 0, 0, 0, 0, 0, 0, 0, 0]\n",
      "[0, 0, 0, 0, 1, 0, 1, 0, 0, 0, 0, 1, 0, 1, 0, 0, 0, 0, 0, 0]\n",
      "[0, 0, 0, 0, 1, 0, 1, 0, 0, 0, 0, 1, 0, 1, 0, 0, 0, 0, 0, 1]\n",
      "[0, 0, 0, 0, 1, 0, 1, 0, 0, 1, 0, 1, 0, 1, 0, 0, 0, 0, 0, 1]\n",
      "[0, 0, 1, 0, 1, 0, 1, 0, 0, 1, 0, 1, 0, 1, 0, 0, 0, 0, 0, 1]\n",
      "[0, 0, 1, 0, 1, 0, 1, 0, 0, 1, 0, 1, 0, 1, 0, 0, 0, 0, 0, 1]\n",
      "[0, 0, 1, 0, 1, 0, 1, 0, 0, 1, 0, 1, 0, 1, 0, 0, 0, 0, 0, 1]\n",
      "[0, 0, 1, 0, 1, 0, 1, 0, 0, 1, 0, 1, 0, 1, 0, 0, 0, 0, 0, 1]\n",
      "7\n"
     ]
    }
   ],
   "source": [
    "N, X = map(int, input().split())\n",
    "A = list(map(int, input().split()))\n",
    "\n",
    "check = [0] * N\n",
    "next_p = X - 1\n",
    "while check[next_p] != 1:\n",
    "    check[next_p] = 1\n",
    "    next_p = A[next_p] - 1\n",
    "print(sum(check))"
   ]
  },
  {
   "cell_type": "markdown",
   "id": "167277b8",
   "metadata": {},
   "source": [
    "問題文\n",
    "N 人の生徒が 4 日間にわたる試験を受けています。\n",
    "それぞれの日に行われる試験は 300 点満点です。すなわち、4 日間を通した試験の満点は 1200 点です。\n",
    "現在 3 日目までの試験が終わり、これから 4 日目の試験が行われようとしています。i(1≤i≤N) 番目の生徒は j(1≤j≤3) 日目の試験で Pi,j点獲得しました。\n",
    "それぞれの生徒について、4 日目の試験後に上位 K 位以内に入っていることがあり得るかどうか判定してください。\n",
    "ただし、4 日目の試験後の生徒の順位は、その生徒よりも 4 日間の合計点が高い生徒の人数に 1 を加えた値として定めます。"
   ]
  },
  {
   "cell_type": "code",
   "execution_count": null,
   "id": "1d1ef1dd",
   "metadata": {},
   "outputs": [],
   "source": [
    "N, X = map(int, input().split())\n",
    "P = [list(map(int, input().split())) for l in range(N)]\n",
    "\n",
    "sum_list = list()\n",
    "for i in range(N):\n",
    "    sum_list.append(sum(P[i]))\n",
    "sum_dict = dict()\n",
    "for i in range(N):\n",
    "    sum_dict[str(i)] = sum(P[i])\n",
    "sorted_list = sorted(sum_dict.items(), key = lambda item : item[1])\n",
    "threshold = sorted_list[-X][1] - 300\n",
    "for i in range(N):\n",
    "    if threshold <= sum_list[i]:\n",
    "        print(\"Yes\")\n",
    "    else:\n",
    "        print(\"No\")"
   ]
  },
  {
   "cell_type": "markdown",
   "id": "96da1320",
   "metadata": {},
   "source": [
    "問題文\n",
    "N = 2^20項からなる数列 A=(A0,A1,…,AN−1) があります。はじめ、全ての要素は −1 です。\n",
    "Q 個のクエリを順番に処理してください。i(1≤i≤Q) 個目のクエリは ti=1 または ti=2 を満たす整数tiおよび整数xiで表され、内容は以下の通りです。\n",
    "ti=1 のとき、以下の処理を順番に行う。\n",
    "    1.整数 h を h=xiで定める。\n",
    "    2.A_(h mod N) \\neq −1 である間、h の値を 1 増やすことを繰り返す。この問題の制約下でこの操作が有限回で終了することは証明できる。\n",
    "    3.A_(h mod N) の値を xiで書き換える。\n",
    "ti=2 のとき、その時点での A_(xi mod N)の値を出力する。\n",
    "なお、整数 a,b に対し、a を b で割った余りを amodb と表します。"
   ]
  },
  {
   "cell_type": "code",
   "execution_count": null,
   "id": "9397d22e",
   "metadata": {},
   "outputs": [],
   "source": [
    "Q = int(input())\n",
    "tx = [map(int, input().split()) for _ in range(Q)]\n",
    "t, x = [list(i) for i in zip(*tx)]\n",
    "N = 2 ** 20\n",
    "A = [-1] * N\n",
    "\n",
    "for i in range(Q):\n",
    "    if t[i] == 1:\n",
    "        h = x[i]\n",
    "        while A[h % N] != -1:\n",
    "            h += 1\n",
    "        A[h] = x[i]\n",
    "    else:\n",
    "        print(A[x[i]% N])"
   ]
  },
  {
   "cell_type": "markdown",
   "id": "d694ebbe",
   "metadata": {},
   "source": [
    "問題文\n",
    "整数列を一堂に集めてその優劣を定める、整数列品評会が行われます。 品評会では、1 以上 K 以下の整数からなる長さ N の整数列すべてが審査対象となり、 審査対象の数列それぞれに対して 1 以上 M 以下の整数の点数をつけます。「審査対象の数列それぞれに対して 1 以上 M 以下の整数の点数をつける方法」が何通りあるかを 998244353 で割ったあまりを出力してください。ただし、2 つの方法が異なるとは「審査対象となるある数列 A=(A1,A2,…,AN) が存在して、 A に対してつける点数が 2 つの方法で異なる」ことを言います。"
   ]
  },
  {
   "cell_type": "code",
   "execution_count": null,
   "id": "e56a4da1",
   "metadata": {},
   "outputs": [],
   "source": []
  },
  {
   "cell_type": "markdown",
   "id": "27e44197",
   "metadata": {},
   "source": [
    "問題文\n",
    "縦 H 行、横 W 列のマス目があります。上から i 行目、左から j 列目のマスをマス (i,j) と呼びます。1≤i≤H かつ 1≤j≤W を満たす整数の組 (i,j) それぞれについて、マス (i,j) には正整数 Ai,jが書かれています。また、すべてのマスは白色に塗られています。高橋君は、縦 h1行、横 w1列の長方形の黒いスタンプを持っており、青木君は、縦 h2行、横 w2列の長方形の白いスタンプを持っています。2 人はこれらのスタンプとマス目を使って対戦ゲームをします。\n",
    "まず高橋君が、持っている黒いスタンプを 1 回使って、マス目の縦 h1行、横 w1列の長方形領域を黒色に塗りつぶします。すなわち、1≤i≤H−h1 +1 かつ 1≤j≤W−w1 +1 を満たす整数の組 (i,j) を一つ選び、 i≤r≤i+h1 −1 かつ j≤c≤j+w1 −1 を満たすすべてのマス (r,c) を黒色に塗りつぶします。次に青木君が、持っている白いスタンプを 1 回使って、マス目の縦 h2行、横 w2列の長方形領域を白色に塗りつぶします。すなわち、1≤i≤H−h2 +1 かつ 1≤j≤W−w2 +1 を満たす整数の組 (i,j) を一つ選び、 i≤r≤i+h2 −1 かつ j≤c≤j+w2 −1 を満たすすべてのマス (r,c) を白色に塗りつぶします。このとき、青木君が白色に塗るマスがすでに高橋君によって黒色に塗られていた場合は、そのマスの色は白で上書きされます。上記の通りに高橋君と青木君がスタンプを 1 回ずつ使った後の、黒色に塗られたマスに書かれた整数の合計を、ゲームの「スコア」とします。 高橋君はスコアが出来るだけ大きくなるように、青木君はスコアが出来るだけ小さくなるように、それぞれ最適な戦略をとります。 ゲームのスコアがいくらになるかを求めて下さい。"
   ]
  },
  {
   "cell_type": "code",
   "execution_count": null,
   "id": "ded3b42c",
   "metadata": {},
   "outputs": [],
   "source": []
  },
  {
   "cell_type": "markdown",
   "id": "177c4da7",
   "metadata": {},
   "source": []
  }
 ],
 "metadata": {
  "kernelspec": {
   "display_name": "Python 3",
   "language": "python",
   "name": "python3"
  },
  "language_info": {
   "codemirror_mode": {
    "name": "ipython",
    "version": 3
   },
   "file_extension": ".py",
   "mimetype": "text/x-python",
   "name": "python",
   "nbconvert_exporter": "python",
   "pygments_lexer": "ipython3",
   "version": "3.8.8"
  }
 },
 "nbformat": 4,
 "nbformat_minor": 5
}
