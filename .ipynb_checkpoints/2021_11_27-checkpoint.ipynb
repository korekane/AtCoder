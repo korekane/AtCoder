{
 "cells": [
  {
   "cell_type": "markdown",
   "id": "a12781b3",
   "metadata": {},
   "source": [
    "縦 2 行、横 2 列のグリッド(各マスが正方形のマス目)があります。\n",
    "このグリッドは、各マスが黒か白であり、少なくとも 2 つの黒マスを含みます。\n",
    "各マスの色の情報は文字列 S1,S2...として、以下の形式で与えられます。\n",
    "・文字列 Siの j 文字目が # であれば上から i マス目、左から j マス目は黒\n",
    "・文字列 Siの j 文字目が . であれば上から i マス目、左から j マス目は白\n",
    "2 つの異なる黒マス同士が辺で接している時、またその時に限りそれら 2 つの黒マスは直接行き来できます。\n",
    "黒マスのみをいくつか通ることによって、どの 2 つの黒マス同士も(直接または間接的に)行き来できるかどうか判定してください。"
   ]
  },
  {
   "cell_type": "code",
   "execution_count": null,
   "id": "4925ad5c",
   "metadata": {},
   "outputs": [],
   "source": [
    "s1 = input()\n",
    "s1=list(s1)\n",
    "s2 = input()\n",
    "s2=list(s2)\n",
    "flag = True\n",
    "if s1[0] == s2[1] and s1[1] == s2[0]:\n",
    "    if not s1[0] == s2[1] == s1[1] == s2[0]:\n",
    "        flag = False\n",
    "if flag == True:\n",
    "    print(\"Yes\")\n",
    "else:\n",
    "    print(\"No\")"
   ]
  },
  {
   "cell_type": "markdown",
   "id": "5d18dc4c",
   "metadata": {},
   "source": [
    "問題文\n",
    "正整数 A,B が与えられます。\n",
    "A+B を(十進法で)計算する時、繰り上がりが生じないなら Easy 、生じるなら Hard と出力してください。"
   ]
  },
  {
   "cell_type": "code",
   "execution_count": null,
   "id": "71851b24",
   "metadata": {},
   "outputs": [],
   "source": [
    "A, B = map(int, input().split())\n",
    "A=list(str(A))\n",
    "B=list(str(B))\n",
    "flag = True\n",
    "for i in range(len(A)):\n",
    "    if i < len(B):\n",
    "        if 9<int(A[-(i+1)])+int(B[-(i+1)]):\n",
    "            flag = False\n",
    "if flag == True:\n",
    "    print(\"Easy\")\n",
    "else:\n",
    "    print(\"Hard\")"
   ]
  },
  {
   "cell_type": "markdown",
   "id": "21fb8386",
   "metadata": {},
   "source": [
    "問題文\n",
    "ピザ屋で働く高橋くんは、まかないとして美味しいチーズピザを作ることにしました。\n",
    "今、高橋くんの目の前に N 種類のチーズがあります。i 種類目のチーズは 1 [g] あたりのおいしさが Aiで、 Bi[g] あります。\n",
    "ピザのおいしさは、ピザに乗せたチーズのおいしさの総和で決まります。\n",
    "但し、チーズを使いすぎると怒られてしまうため、乗せたチーズの重さは合計で W [g] 以下である必要があります。\n",
    "この条件のもとで、可能なピザのおいしさの最大値を求めてください。"
   ]
  },
  {
   "cell_type": "code",
   "execution_count": null,
   "id": "b9cabd56",
   "metadata": {},
   "outputs": [],
   "source": [
    "#貪欲法\n",
    "N, W = map(int, input().split())\n",
    "AB = [map(int, input().split()) for _ in range(N)]\n",
    "A, B = [list(i) for i in zip(*AB)]\n",
    "\n",
    "zip_lists = zip(A,B)\n",
    "zip_sort = sorted(zip_lists, reverse=True)\n",
    "A, B = zip(*zip_sort)\n",
    "\n",
    "score = 0\n",
    "for i in range(N):\n",
    "    if W != 0:\n",
    "        if W > B[i]:\n",
    "            score += A[i]*B[i]\n",
    "            W -= B[i]\n",
    "        else:\n",
    "            score += A[i]*W\n",
    "            W = 0\n",
    "print(score)\n"
   ]
  },
  {
   "cell_type": "markdown",
   "id": "a7b0157e",
   "metadata": {},
   "source": [
    "問題文\n",
    "X と . からなる文字列 S が与えられます。\n",
    "S に対して、次の操作を 0 回以上 K 回以下行うことができます。\n",
    ". を X に置き換える操作後に、X を最大で何個連続させることができますか？"
   ]
  },
  {
   "cell_type": "code",
   "execution_count": null,
   "id": "888110d7",
   "metadata": {},
   "outputs": [],
   "source": [
    "#score以上の長さが得られるかの判定問題\n",
    "def jedge(S,K,score):\n",
    "    \n",
    "    if :\n",
    "        return True\n",
    "    else:\n",
    "        return False\n",
    "\n",
    "S = input()\n",
    "S = list()\n",
    "K = int(input())\n",
    "score = 1\n",
    "flag = True\n",
    "while flag == True:\n",
    "    flag = jedge(S,K,score)\n",
    "    if flag:\n",
    "        score =+ 1\n",
    "print(score)"
   ]
  },
  {
   "cell_type": "markdown",
   "id": "35646013",
   "metadata": {},
   "source": [
    "問題文\n",
    "N 頂点 M 辺の単純な無向グラフが与えられます。\n",
    "辺 i は、頂点 A iと B iを結んでいます。\n",
    "頂点 1,2,…,N を順番に消していきます。\n",
    "なお、頂点 i を消すとは、頂点 i と、頂点 i に接続する全ての辺をグラフから削除することです。\n",
    "i=1,2,…,N について、頂点 i まで消した時にグラフはいくつの連結成分に分かれていますか？"
   ]
  },
  {
   "cell_type": "code",
   "execution_count": null,
   "id": "103202c6",
   "metadata": {},
   "outputs": [],
   "source": []
  },
  {
   "cell_type": "markdown",
   "id": "2cc90f16",
   "metadata": {},
   "source": [
    "問題文\n",
    "N+1 頂点の無向グラフが与えられます。\n",
    "頂点には頂点 0 、頂点 1 、… 、頂点 N と名前がついています。\n",
    "i=1,2,…,N について、頂点 0 と頂点 i を結ぶ重み Aiの無向辺があります。\n",
    "また、i=1,2,…,N について、頂点 i と頂点 i+1 を結ぶ重み Biの無向辺があります。(ただし、頂点 N+1 は頂点 1 とみなします。)\n",
    "上に述べた 2N 本の辺の他に辺はありません。\n",
    "このグラフからいくつかの辺を削除して、グラフを二部グラフにします。\n",
    "削除する辺の重みの総和の最小値はいくつですか？"
   ]
  },
  {
   "cell_type": "code",
   "execution_count": null,
   "id": "150c3119",
   "metadata": {},
   "outputs": [],
   "source": [
    "N = int(input())\n",
    "A = list(map(int, input().split()))\n",
    "B = list(map(int, input().split()))\n",
    "\n",
    "sol = 0\n",
    "score = []\n",
    "for i in range(N):\n",
    "    if i != N - 1:\n",
    "        score.append(A[i]+A[i+1]-B[i])\n",
    "    else:\n",
    "        score.append(A[i]+A[0]-B[i])\n",
    "S = list(range(N))\n",
    "zip_lists = zip(score,S)\n",
    "zip_sort = sorted(zip_lists, reverse=True)\n",
    "sol += B[S[0]]\n",
    "if S[0] != N - 1:\n",
    "    A.pop(S[0])\n",
    "    A.pop(S[0])\n",
    "else:\n",
    "    A.pop(S[0])\n",
    "    A.pop(0)\n",
    "A.sort(reverse=True)\n",
    "A.pop(0)\n",
    "sol += sum(A)\n",
    "print(sol)"
   ]
  },
  {
   "cell_type": "markdown",
   "id": "241337d4",
   "metadata": {},
   "source": []
  },
  {
   "cell_type": "code",
   "execution_count": null,
   "id": "ddde58e3",
   "metadata": {},
   "outputs": [],
   "source": [
    "N = int(input())\n",
    "S = [list(map(int, input().split())) for l in range(N)]\n",
    "\n"
   ]
  }
 ],
 "metadata": {
  "kernelspec": {
   "display_name": "Python 3 (ipykernel)",
   "language": "python",
   "name": "python3"
  },
  "language_info": {
   "codemirror_mode": {
    "name": "ipython",
    "version": 3
   },
   "file_extension": ".py",
   "mimetype": "text/x-python",
   "name": "python",
   "nbconvert_exporter": "python",
   "pygments_lexer": "ipython3",
   "version": "3.8.12"
  }
 },
 "nbformat": 4,
 "nbformat_minor": 5
}
