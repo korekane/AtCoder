{
 "cells": [
  {
   "cell_type": "markdown",
   "id": "c582a7d1",
   "metadata": {},
   "source": [
    "問題文\n",
    "高橋君はデータの加工が行いたいです。\n",
    "整数 a,b,cと、文字列 s が与えられます。 a+b+c の計算結果と、文字列 s を並べて表示しなさい。"
   ]
  },
  {
   "cell_type": "code",
   "execution_count": 2,
   "id": "7841cfa1",
   "metadata": {},
   "outputs": [
    {
     "name": "stdout",
     "output_type": "stream",
     "text": [
      "1\n",
      "2 3\n",
      "test\n",
      "6 test\n"
     ]
    }
   ],
   "source": [
    "a = int(input()) \n",
    "b, c = map(int, input().split())\n",
    "s = input()\n",
    "sum_ = a+b+c\n",
    "print(str(sum_)+\" \"+s)"
   ]
  },
  {
   "cell_type": "markdown",
   "id": "07f07b82",
   "metadata": {},
   "source": [
    "問題文\n",
    "シカのAtCoDeerくんは二つの正整数 a,b を見つけました。 a と b の積が偶数か奇数か判定してください。"
   ]
  },
  {
   "cell_type": "code",
   "execution_count": 3,
   "id": "51d507a6",
   "metadata": {},
   "outputs": [
    {
     "name": "stdout",
     "output_type": "stream",
     "text": [
      "3 4\n",
      "Even\n"
     ]
    }
   ],
   "source": [
    "a, b = map(int, input().split())\n",
    "if a*b%2==1:\n",
    "    print(\"Odd\")\n",
    "else:\n",
    "    print(\"Even\")"
   ]
  },
  {
   "cell_type": "markdown",
   "id": "24bf7235",
   "metadata": {},
   "source": [
    "問題文\n",
    "すぬけ君は 1,2,3 の番号がついた 3 つのマスからなるマス目を持っています。 各マスには 0 か 1 が書かれており、マス i には siが書かれています。\n",
    "すぬけ君は 1 が書かれたマスにビー玉を置きます。 ビー玉が置かれるマスがいくつあるか求めてください。"
   ]
  },
  {
   "cell_type": "code",
   "execution_count": 4,
   "id": "faf44a68",
   "metadata": {},
   "outputs": [
    {
     "name": "stdout",
     "output_type": "stream",
     "text": [
      "101\n",
      "2\n"
     ]
    }
   ],
   "source": [
    "s = int(input()) \n",
    "s3=s//100\n",
    "s2=s%100//10\n",
    "s1=s%2\n",
    "sum_=s1+s2+s3\n",
    "print(sum_)"
   ]
  },
  {
   "cell_type": "markdown",
   "id": "c0a967c3",
   "metadata": {},
   "source": [
    "問題文\n",
    "黒板に N 個の正の整数 A \n",
    "1,...,A Nが書かれています．\n",
    "すぬけ君は，黒板に書かれている整数がすべて偶数であるとき，次の操作を行うことができます．\n",
    "黒板に書かれている整数すべてを，2 で割ったものに置き換える．\n",
    "すぬけ君は最大で何回操作を行うことができるかを求めてください．"
   ]
  },
  {
   "cell_type": "code",
   "execution_count": 5,
   "id": "38501320",
   "metadata": {},
   "outputs": [
    {
     "name": "stdout",
     "output_type": "stream",
     "text": [
      "3\n",
      "8 12 40\n",
      "2\n"
     ]
    }
   ],
   "source": [
    "N = int(input())\n",
    "A = list(map(int, input().split()))\n",
    "\n",
    "ans = 0\n",
    "flag = True\n",
    "while flag == True:\n",
    "    for index in range(N):\n",
    "        if A[index]%2!=0:\n",
    "            flag = False\n",
    "    if flag == True:\n",
    "        ans+=1\n",
    "        for index in range(N):\n",
    "            A[index]=A[index]/2\n",
    "print(ans)"
   ]
  },
  {
   "cell_type": "markdown",
   "id": "3bc902c1",
   "metadata": {},
   "source": [
    "問題文\n",
    "あなたは、500 円玉を A 枚、100 円玉を B 枚、50 円玉を C 枚持っています。 これらの硬貨の中から何枚かを選び、合計金額をちょうど X 円にする方法は何通りありますか。\n",
    "同じ種類の硬貨どうしは区別できません。2 通りの硬貨の選び方は、ある種類の硬貨についてその硬貨を選ぶ枚数が異なるとき区別されます。"
   ]
  },
  {
   "cell_type": "code",
   "execution_count": 6,
   "id": "0a21df49",
   "metadata": {},
   "outputs": [
    {
     "name": "stdout",
     "output_type": "stream",
     "text": [
      "2\n",
      "2\n",
      "2\n",
      "100\n",
      "2\n"
     ]
    }
   ],
   "source": [
    "a = int(input())\n",
    "b = int(input())\n",
    "c = int(input())\n",
    "x = int(input())\n",
    "\n",
    "ans=0\n",
    "for index_1 in range(a+1):\n",
    "    for index_2 in range(b+1):\n",
    "        for index_3 in range(c+1):\n",
    "            if 500*index_1+100*index_2+50*index_3==x:\n",
    "                ans+=1\n",
    "print(ans)"
   ]
  },
  {
   "cell_type": "markdown",
   "id": "d9718320",
   "metadata": {},
   "source": [
    "問題文\n",
    "1 以上 N 以下の整数のうち、10 進法での各桁の和が A 以上 B 以下であるものの総和を求めてください。"
   ]
  },
  {
   "cell_type": "code",
   "execution_count": 2,
   "id": "f61189d9",
   "metadata": {},
   "outputs": [
    {
     "name": "stdout",
     "output_type": "stream",
     "text": [
      "4554\n"
     ]
    }
   ],
   "source": [
    "N, A, B = map(int, input().split())\n",
    "\n",
    "ans = 0\n",
    "for index in range(1, N+1):\n",
    "    s = str(index)\n",
    "    array = list(map(int, s))\n",
    "    result = sum(array)\n",
    "    if (result >= A) and (result<=B):\n",
    "        ans+=index\n",
    "print(ans)"
   ]
  },
  {
   "cell_type": "markdown",
   "id": "a5a87d4a",
   "metadata": {},
   "source": [
    "問題文\n",
    "N 枚のカードがあります. i 枚目のカードには, aiという数が書かれています.\n",
    "Alice と Bob は, これらのカードを使ってゲームを行います. ゲームでは, Alice と Bob が交互に 1 枚ずつカードを取っていきます. Alice が先にカードを取ります.\n",
    "2 人がすべてのカードを取ったときゲームは終了し, 取ったカードの数の合計がその人の得点になります. 2 人とも自分の得点を最大化するように最適な戦略を取った時, Alice は Bob より何点多く取るか求めてください."
   ]
  },
  {
   "cell_type": "code",
   "execution_count": 3,
   "id": "59df88e1",
   "metadata": {},
   "outputs": [
    {
     "name": "stdout",
     "output_type": "stream",
     "text": [
      "2\n",
      "3 1\n",
      "2\n"
     ]
    }
   ],
   "source": [
    "N = int(input())\n",
    "a = list(map(int, input().split()))\n",
    "score = 0\n",
    "flag = 0\n",
    "a.sort()\n",
    "while a!=[]:\n",
    "    flag += 1\n",
    "    if flag%2==1:\n",
    "        score += a.pop()\n",
    "    else:\n",
    "        score -= a.pop()\n",
    "print(score)"
   ]
  },
  {
   "cell_type": "markdown",
   "id": "f6398eb2",
   "metadata": {},
   "source": [
    "問題文\n",
    "X 段重ねの鏡餅 (X≥1) とは、X 枚の円形の餅を縦に積み重ねたものであって、どの餅もその真下の餅より直径が小さい（一番下の餅を除く）もののことです。例えば、直径 10、8、6 センチメートルの餅をこの順に下から積み重ねると 3 段重ねの鏡餅になり、餅を一枚だけ置くと 1 段重ねの鏡餅になります。\n",
    "ダックスフンドのルンルンは N 枚の円形の餅を持っていて、そのうち i 枚目の餅の直径は diセンチメートルです。これらの餅のうち一部または全部を使って鏡餅を作るとき、最大で何段重ねの鏡餅を作ることができるでしょうか。"
   ]
  },
  {
   "cell_type": "code",
   "execution_count": 4,
   "id": "f123fc7f",
   "metadata": {},
   "outputs": [
    {
     "name": "stdout",
     "output_type": "stream",
     "text": [
      "4\n",
      "20\n",
      "8\n",
      "8\n",
      "6\n",
      "3\n"
     ]
    }
   ],
   "source": [
    "N = int(input())\n",
    "d = []\n",
    "for _ in range(N):\n",
    "    d.append(int(input()))\n",
    "print(len(set(d)))"
   ]
  },
  {
   "cell_type": "markdown",
   "id": "edf58ead",
   "metadata": {},
   "source": [
    "問題文\n",
    "日本でよく使われる紙幣は、10000 円札、5000 円札、1000 円札です。以下、「お札」とはこれらのみを指します。\n",
    "青橋くんが言うには、彼が祖父から受け取ったお年玉袋にはお札が N 枚入っていて、合計で Y 円だったそうですが、嘘かもしれません。このような状況がありうるか判定し、ありうる場合はお年玉袋の中身の候補を一つ見つけてください。なお、彼の祖父は十分裕福であり、お年玉袋は十分大きかったものとします。"
   ]
  },
  {
   "cell_type": "code",
   "execution_count": 5,
   "id": "054f6a97",
   "metadata": {},
   "outputs": [
    {
     "name": "stdout",
     "output_type": "stream",
     "text": [
      "-1 -1 -1\n"
     ]
    }
   ],
   "source": [
    "N, Y = map(int, input().split())\n",
    "\n",
    "sol=[]\n",
    "for index1 in range(N+1):\n",
    "    if index1*10000 > Y:\n",
    "        break\n",
    "    if sol!=[]:\n",
    "        break\n",
    "    for index2 in range(N+1-index1):\n",
    "        if index1*10000+index2*5000> Y:\n",
    "            break\n",
    "        if sol!=[]:\n",
    "            break\n",
    "        index3 = N-index1-index2\n",
    "        if index1*10000+index2*5000+index3*1000 == Y:\n",
    "            sol.append([index1,index2,index3])\n",
    "        if sol!=[]:\n",
    "            break\n",
    "if sol==[]:\n",
    "    print(\"-1 -1 -1\")\n",
    "else:\n",
    "    print(str(sol[0][0])+' '+str(sol[0][1])+' '+str(sol[0][2]))"
   ]
  },
  {
   "cell_type": "markdown",
   "id": "5c9c563f",
   "metadata": {},
   "source": [
    "問題文\n",
    "英小文字からなる文字列 S が与えられます。 Tが空文字列である状態から始め、以下の操作を好きな回数繰り返すことで S=T とすることができるか判定してください。\n",
    "T の末尾に dream dreamer erase eraser のいずれかを追加する。"
   ]
  },
  {
   "cell_type": "code",
   "execution_count": null,
   "id": "f9d37137",
   "metadata": {},
   "outputs": [],
   "source": [
    "n = str(input())\n",
    "\n",
    "n = n.replace(\"eraser\",\" \")\n",
    "n = n.replace(\"erase\",\" \")\n",
    "n = n.replace(\"dreamer\",\" \")\n",
    "n = n.replace(\"dream\",\" \")\n",
    "n = n.replace(\" \",\"\")\n",
    "\n",
    "if len(n) == 0:\n",
    "    print(\"YES\")\n",
    "else:\n",
    "    print(\"NO\")"
   ]
  },
  {
   "cell_type": "markdown",
   "id": "1a92c72a",
   "metadata": {},
   "source": [
    "問題文\n",
    "シカのAtCoDeerくんは二次元平面上で旅行をしようとしています。 AtCoDeerくんの旅行プランでは、時刻 0 に 点 (0,0) を出発し、 1 以上 N 以下の各 i に対し、時刻 tiに 点 (xi,yi) を訪れる予定です。\n",
    "AtCoDeerくんが時刻 t に 点 (x,y) にいる時、 時刻 t+1 には 点 (x+1,y), (x−1,y), (x,y+1), (x,y−1) のうちいずれかに存在することができます。 その場にとどまることは出来ないことに注意してください。 AtCoDeerくんの旅行プランが実行可能かどうか判定してください。"
   ]
  },
  {
   "cell_type": "code",
   "execution_count": 10,
   "id": "e583183e",
   "metadata": {},
   "outputs": [
    {
     "name": "stdout",
     "output_type": "stream",
     "text": [
      "2\n",
      "5 1 1\n",
      "100 1 1\n",
      "No\n"
     ]
    }
   ],
   "source": [
    "N = int(input())\n",
    "t = [0] * N\n",
    "x = [0] * N\n",
    "y = [0] * N\n",
    "\n",
    "pre = [0,0,0]\n",
    "Flag1 =True\n",
    "for i in range(N):\n",
    "    t[i], x[i], y[i] = map(int, input().split())\n",
    "    distance = (x[i] - pre[1]) + (y[i] - pre[2])\n",
    "    Flag2 = t[i] - pre[0] - distance\n",
    "    if (Flag2 < 0) or ((Flag2 % 2) != 0):\n",
    "        Flag1 = False\n",
    "        break\n",
    "    pre = [x[i],y[i],t[i]]\n",
    "if Flag1:\n",
    "    print(\"Yes\")\n",
    "else:\n",
    "    print(\"No\")"
   ]
  }
 ],
 "metadata": {
  "kernelspec": {
   "display_name": "Python 3",
   "language": "python",
   "name": "python3"
  },
  "language_info": {
   "codemirror_mode": {
    "name": "ipython",
    "version": 3
   },
   "file_extension": ".py",
   "mimetype": "text/x-python",
   "name": "python",
   "nbconvert_exporter": "python",
   "pygments_lexer": "ipython3",
   "version": "3.8.8"
  }
 },
 "nbformat": 4,
 "nbformat_minor": 5
}
